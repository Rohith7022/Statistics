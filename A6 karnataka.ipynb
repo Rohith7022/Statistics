{
 "cells": [
  {
   "cell_type": "code",
   "execution_count": 1,
   "id": "3dba5b15-8897-49e4-a7bf-36b640fe9639",
   "metadata": {},
   "outputs": [
    {
     "name": "stdout",
     "output_type": "stream",
     "text": [
      "Requirement already satisfied: geopandas in /opt/anaconda3/lib/python3.12/site-packages (1.1.1)\n",
      "Requirement already satisfied: pandas in /opt/anaconda3/lib/python3.12/site-packages (2.2.2)\n",
      "Requirement already satisfied: openpyxl in /opt/anaconda3/lib/python3.12/site-packages (3.1.5)\n",
      "Requirement already satisfied: matplotlib in /opt/anaconda3/lib/python3.12/site-packages (3.9.2)\n",
      "Requirement already satisfied: numpy>=1.24 in /opt/anaconda3/lib/python3.12/site-packages (from geopandas) (1.26.4)\n",
      "Requirement already satisfied: pyogrio>=0.7.2 in /opt/anaconda3/lib/python3.12/site-packages (from geopandas) (0.11.0)\n",
      "Requirement already satisfied: packaging in /opt/anaconda3/lib/python3.12/site-packages (from geopandas) (24.1)\n",
      "Requirement already satisfied: pyproj>=3.5.0 in /opt/anaconda3/lib/python3.12/site-packages (from geopandas) (3.7.1)\n",
      "Requirement already satisfied: shapely>=2.0.0 in /opt/anaconda3/lib/python3.12/site-packages (from geopandas) (2.1.1)\n",
      "Requirement already satisfied: python-dateutil>=2.8.2 in /opt/anaconda3/lib/python3.12/site-packages (from pandas) (2.9.0.post0)\n",
      "Requirement already satisfied: pytz>=2020.1 in /opt/anaconda3/lib/python3.12/site-packages (from pandas) (2024.1)\n",
      "Requirement already satisfied: tzdata>=2022.7 in /opt/anaconda3/lib/python3.12/site-packages (from pandas) (2023.3)\n",
      "Requirement already satisfied: et-xmlfile in /opt/anaconda3/lib/python3.12/site-packages (from openpyxl) (1.1.0)\n",
      "Requirement already satisfied: contourpy>=1.0.1 in /opt/anaconda3/lib/python3.12/site-packages (from matplotlib) (1.2.0)\n",
      "Requirement already satisfied: cycler>=0.10 in /opt/anaconda3/lib/python3.12/site-packages (from matplotlib) (0.11.0)\n",
      "Requirement already satisfied: fonttools>=4.22.0 in /opt/anaconda3/lib/python3.12/site-packages (from matplotlib) (4.51.0)\n",
      "Requirement already satisfied: kiwisolver>=1.3.1 in /opt/anaconda3/lib/python3.12/site-packages (from matplotlib) (1.4.4)\n",
      "Requirement already satisfied: pillow>=8 in /opt/anaconda3/lib/python3.12/site-packages (from matplotlib) (10.4.0)\n",
      "Requirement already satisfied: pyparsing>=2.3.1 in /opt/anaconda3/lib/python3.12/site-packages (from matplotlib) (3.1.2)\n",
      "Requirement already satisfied: certifi in /opt/anaconda3/lib/python3.12/site-packages (from pyogrio>=0.7.2->geopandas) (2025.4.26)\n",
      "Requirement already satisfied: six>=1.5 in /opt/anaconda3/lib/python3.12/site-packages (from python-dateutil>=2.8.2->pandas) (1.16.0)\n"
     ]
    }
   ],
   "source": [
    "!pip install geopandas pandas openpyxl matplotlib"
   ]
  },
  {
   "cell_type": "code",
   "execution_count": 2,
   "id": "7b73b8e8-a7ee-49dc-bf4d-1143bdfb742f",
   "metadata": {},
   "outputs": [],
   "source": [
    "import pandas as pd\n",
    "import geopandas as gpd\n",
    "import matplotlib.pyplot as plt"
   ]
  },
  {
   "cell_type": "code",
   "execution_count": 4,
   "id": "ccfa151e-4ac1-4e27-9538-903bc2673075",
   "metadata": {},
   "outputs": [],
   "source": [
    "# Assuming NSSO file is saved in Downloads\n",
    "nsso_data = pd.read_excel(\"~/Downloads/NSSO68.xlsx\")"
   ]
  },
  {
   "cell_type": "code",
   "execution_count": 5,
   "id": "7c2f7f3e-23bd-4b69-ab62-681d3c470d25",
   "metadata": {},
   "outputs": [],
   "source": [
    "karnataka_data = nsso_data[nsso_data['state'] == 29].copy()"
   ]
  },
  {
   "cell_type": "code",
   "execution_count": 6,
   "id": "47c9f5db-acc0-498f-82d0-64dc6fafa306",
   "metadata": {},
   "outputs": [],
   "source": [
    "karnataka_data.dropna(subset=['District'], inplace=True)"
   ]
  },
  {
   "cell_type": "code",
   "execution_count": 7,
   "id": "c45bcbee-1b78-4be5-810e-1f6f2382953e",
   "metadata": {},
   "outputs": [],
   "source": [
    "district_consumption = karnataka_data.groupby('District').agg(avg_milk=('milk_q', 'mean')).reset_index()"
   ]
  },
  {
   "cell_type": "code",
   "execution_count": 8,
   "id": "fb0974d1-5bf1-46c0-b1fc-3960ee78fe17",
   "metadata": {},
   "outputs": [],
   "source": [
    "geo_path = \"~/Downloads/KARNATAKA_DISTRICTS.geojson\"  # update if different\n",
    "karnataka_geo = gpd.read_file(geo_path)"
   ]
  },
  {
   "cell_type": "code",
   "execution_count": 9,
   "id": "de950664-0e8d-4cd9-838c-b38325c40af3",
   "metadata": {},
   "outputs": [
    {
     "name": "stdout",
     "output_type": "stream",
     "text": [
      "Index(['dtname', 'stname', 'stcode11', 'dtcode11', 'year_stat', 'Shape_Length',\n",
      "       'Shape_Area', 'OBJECTID', 'test', 'Dist_LGD', 'State_LGD', 'geometry'],\n",
      "      dtype='object')\n"
     ]
    }
   ],
   "source": [
    "print(karnataka_geo.columns)"
   ]
  },
  {
   "cell_type": "code",
   "execution_count": 12,
   "id": "9c6b8615-c975-4ebb-809a-76a773c8adc8",
   "metadata": {},
   "outputs": [],
   "source": [
    "# Step 1: Convert merge keys to string\n",
    "karnataka_geo['dtname'] = karnataka_geo['dtname'].astype(str).str.strip().str.lower()\n",
    "district_consumption['District'] = district_consumption['District'].astype(str).str.strip().str.lower()"
   ]
  },
  {
   "cell_type": "code",
   "execution_count": 13,
   "id": "336405a2-eaa2-4665-8ae8-4633aa000fbb",
   "metadata": {},
   "outputs": [],
   "source": [
    "# Step 2: Merge after conversion\n",
    "karnataka_geo = karnataka_geo.merge(\n",
    "    district_consumption,\n",
    "    left_on='dtname',\n",
    "    right_on='District',\n",
    "    how='left'\n",
    ")"
   ]
  },
  {
   "cell_type": "code",
   "execution_count": 14,
   "id": "2e055e82-5b8c-4e16-b3fc-812456993e13",
   "metadata": {},
   "outputs": [],
   "source": [
    "karnataka_geo = karnataka_geo.merge(district_consumption, left_on='dtname', right_on='District', how='left')"
   ]
  },
  {
   "cell_type": "code",
   "execution_count": 16,
   "id": "e2484602-2a6f-4090-943c-46a8933aab4b",
   "metadata": {},
   "outputs": [
    {
     "name": "stdout",
     "output_type": "stream",
     "text": [
      "Index(['dtname', 'stname', 'stcode11', 'dtcode11', 'year_stat', 'Shape_Length',\n",
      "       'Shape_Area', 'OBJECTID', 'test', 'Dist_LGD', 'State_LGD', 'geometry',\n",
      "       'District_x', 'avg_milk_x', 'District_y', 'avg_milk_y'],\n",
      "      dtype='object')\n"
     ]
    }
   ],
   "source": [
    "print(karnataka_geo.columns)"
   ]
  },
  {
   "cell_type": "code",
   "execution_count": 20,
   "id": "d83849ec-b8fc-4ecb-9e28-78c474c96a8b",
   "metadata": {},
   "outputs": [
    {
     "data": {
      "image/png": "[encoded data removed]",
      "text/plain": [
       "<Figure size 1000x800 with 2 Axes>"
      ]
     },
     "metadata": {},
     "output_type": "display_data"
    }
   ],
   "source": [
    "# Plotting the map with correct column name\n",
    "fig, ax = plt.subplots(figsize=(10, 8))\n",
    "karnataka_geo.plot(\n",
    "    column='avg_milk_x',  # or 'avg_milk_x' depending on which one has valid data\n",
    "    cmap='YlGnBu',\n",
    "    linewidth=0.8,\n",
    "    edgecolor='black',\n",
    "    legend=True,\n",
    "    ax=ax\n",
    ")\n",
    "ax.set_title('Average Milk Consumption per District in Karnataka (NSSO68)', fontsize=14)\n",
    "ax.axis('off')\n",
    "plt.show()"
   ]
  },
  {
   "cell_type": "code",
   "execution_count": 22,
   "id": "ff748109-b151-45c2-8ba8-254b1c2a6e5a",
   "metadata": {},
   "outputs": [
    {
     "name": "stdout",
     "output_type": "stream",
     "text": [
      "(30, 16)\n",
      "       dtname  avg_milk_y  avg_milk_x\n",
      "0       bidar         NaN         NaN\n",
      "1  kalaburagi         NaN         NaN\n",
      "2    belagavi         NaN         NaN\n",
      "3      yadgir         NaN         NaN\n",
      "4   bagalkote         NaN         NaN\n"
     ]
    }
   ],
   "source": [
    "print(karnataka_geo.shape)\n",
    "print(karnataka_geo[['dtname', 'avg_milk_y','avg_milk_x']].head())"
   ]
  },
  {
   "cell_type": "code",
   "execution_count": 23,
   "id": "0ab07755-bda0-4249-a938-fbb9c9db6639",
   "metadata": {},
   "outputs": [
    {
     "name": "stdout",
     "output_type": "stream",
     "text": [
      "Districts in shapefile (geo):\n",
      "['bagalkote', 'ballari', 'bangalore', 'belagavi', 'bengaluru rural', 'bidar', 'chamarajanagara', 'chikkaballapura', 'chikkamagaluru', 'chitradurga', 'dakshina kannada', 'davanagere', 'dharwad', 'gadag', 'hassan', 'haveri', 'kalaburagi', 'kodagu', 'kolar', 'koppal', 'mandya', 'mysuru', 'raichur', 'ramanagara', 'shivamogga', 'tumakuru', 'udupi', 'uttara kannada', 'vijayapura', 'yadgir']\n",
      "\n",
      "Districts in NSSO data:\n",
      "['1', '10', '11', '12', '13', '14', '15', '16', '17', '18', '19', '2', '20', '21', '22', '23', '24', '25', '26', '27', '28', '29', '3', '4', '5', '6', '7', '8', '9']\n"
     ]
    }
   ],
   "source": [
    "print(\"Districts in shapefile (geo):\")\n",
    "print(sorted(karnataka_geo['dtname'].unique()))\n",
    "\n",
    "print(\"\\nDistricts in NSSO data:\")\n",
    "print(sorted(district_consumption['District'].unique()))"
   ]
  },
  {
   "cell_type": "code",
   "execution_count": 24,
   "id": "b9795c40-6623-40ae-a66e-0d0e61959715",
   "metadata": {},
   "outputs": [],
   "source": [
    "district_code_map = {\n",
    "    '1': 'bagalkote',\n",
    "    '2': 'ballari',\n",
    "    '3': 'bangalore',\n",
    "    '4': 'belagavi',\n",
    "    '5': 'bengaluru rural',\n",
    "    '6': 'bidar',\n",
    "    '7': 'chamarajanagara',\n",
    "    '8': 'chikkaballapura',\n",
    "    '9': 'chikkamagaluru',\n",
    "    '10': 'chitradurga',\n",
    "    '11': 'dakshina kannada',\n",
    "    '12': 'davanagere',\n",
    "    '13': 'dharwad',\n",
    "    '14': 'gadag',\n",
    "    '15': 'hassan',\n",
    "    '16': 'haveri',\n",
    "    '17': 'kalaburagi',\n",
    "    '18': 'kodagu',\n",
    "    '19': 'kolar',\n",
    "    '20': 'koppal',\n",
    "    '21': 'mandya',\n",
    "    '22': 'mysuru',\n",
    "    '23': 'raichur',\n",
    "    '24': 'ramanagara',\n",
    "    '25': 'shivamogga',\n",
    "    '26': 'tumakuru',\n",
    "    '27': 'udupi',\n",
    "    '28': 'uttara kannada',\n",
    "    '29': 'vijayapura',\n",
    "    '30': 'yadgir'\n",
    "}"
   ]
  },
  {
   "cell_type": "code",
   "execution_count": 25,
   "id": "a6067c9c-58b8-437f-9949-5ef05ae7d75a",
   "metadata": {},
   "outputs": [],
   "source": [
    "# Convert to string (if not already)\n",
    "district_consumption['District'] = district_consumption['District'].astype(str).str.strip()\n",
    "\n",
    "# Map codes to names\n",
    "district_consumption['District'] = district_consumption['District'].replace(district_code_map)\n",
    "\n",
    "# Remove extra whitespace and make lowercase for both datasets\n",
    "district_consumption['District'] = district_consumption['District'].str.strip().str.lower()\n",
    "karnataka_geo['dtname'] = karnataka_geo['dtname'].str.strip().str.lower()"
   ]
  },
  {
   "cell_type": "code",
   "execution_count": null,
   "id": "09cc519d-3c35-494b-95c1-fdc5ec002b25",
   "metadata": {},
   "outputs": [],
   "source": []
  }
 ],
 "metadata": {
  "kernelspec": {
   "display_name": "Python [conda env:base] *",
   "language": "python",
   "name": "conda-base-py"
  },
  "language_info": {
   "codemirror_mode": {
    "name": "ipython",
    "version": 3
   },
   "file_extension": ".py",
   "mimetype": "text/x-python",
   "name": "python",
   "nbconvert_exporter": "python",
   "pygments_lexer": "ipython3",
   "version": "3.12.7"
  }
 },
 "nbformat": 4,
 "nbformat_minor": 5
}
